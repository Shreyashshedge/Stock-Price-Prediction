{
 "cells": [
  {
   "cell_type": "code",
   "execution_count": 1,
   "id": "35031b23",
   "metadata": {},
   "outputs": [
    {
     "name": "stderr",
     "output_type": "stream",
     "text": [
      "2024-08-27 21:30:35.209 \n",
      "  \u001b[33m\u001b[1mWarning:\u001b[0m to view this Streamlit app on a browser, run it with the following\n",
      "  command:\n",
      "\n",
      "    streamlit run C:\\ProgramData\\Anaconda3\\lib\\site-packages\\ipykernel_launcher.py [ARGUMENTS]\n",
      "2024-08-27 21:30:35.216 No runtime found, using MemoryCacheStorageManager\n",
      "2024-08-27 21:30:35.218 No runtime found, using MemoryCacheStorageManager\n",
      "[*********************100%%**********************]  1 of 1 completed\n",
      "C:\\ProgramData\\Anaconda3\\lib\\site-packages\\scipy\\__init__.py:146: UserWarning: A NumPy version >=1.16.5 and <1.23.0 is required for this version of SciPy (detected version 1.26.4\n",
      "  warnings.warn(f\"A NumPy version >={np_minversion} and <{np_maxversion}\"\n",
      "21:30:39 - cmdstanpy - INFO - Chain [1] start processing\n",
      "21:30:41 - cmdstanpy - INFO - Chain [1] done processing\n"
     ]
    },
    {
     "data": {
      "text/plain": [
       "DeltaGenerator()"
      ]
     },
     "execution_count": 1,
     "metadata": {},
     "output_type": "execute_result"
    }
   ],
   "source": [
    "import streamlit as st\n",
    "from datetime import date, timedelta\n",
    "\n",
    "import yfinance as yf\n",
    "from prophet import Prophet\n",
    "from prophet.plot import plot_plotly\n",
    "from plotly import graph_objs as go\n",
    "\n",
    "# Constants\n",
    "START = \"2010-01-01\"\n",
    "TODAY = date.today().strftime(\"%Y-%m-%d\")\n",
    "RELIANCE_TICKER = \"RELIANCE.NS\" \n",
    "\n",
    "# Streamlit App\n",
    "st.title('Reliance Stock Forecast App')\n",
    "\n",
    "st.write(f\"Predicting the stock prices of Reliance Industries for the next 30 days.\")\n",
    "\n",
    "@st.cache_data\n",
    "def load_data(ticker):\n",
    "    data = yf.download(ticker, START, TODAY)\n",
    "    data.reset_index(inplace=True)\n",
    "    return data\n",
    "\n",
    "data_load_state = st.text('Loading data...')\n",
    "data = load_data(RELIANCE_TICKER)\n",
    "data_load_state.text('Loading data... done!')\n",
    "\n",
    "st.subheader('Raw data')\n",
    "st.write(data.tail())\n",
    "\n",
    "# Prepare data for forecasting\n",
    "df_train = data[['Date', 'Close']]\n",
    "df_train = df_train.rename(columns={\"Date\": \"ds\", \"Close\": \"y\"})\n",
    "\n",
    "m = Prophet()\n",
    "m.fit(df_train)\n",
    "\n",
    "# Predict forecast for next 30 days\n",
    "future = m.make_future_dataframe(periods=30)\n",
    "forecast = m.predict(future)\n",
    "\n",
    "# Show and plot forecast\n",
    "st.subheader('Forecast data')\n",
    "st.write(forecast[['ds', 'yhat', 'yhat_lower', 'yhat_upper']].tail(30))\n",
    "\n",
    "# Date input and forecast button\n",
    "forecast_date = st.date_input(\"Enter a date to get the forecasted price\", value=date.today() + timedelta(days=1))\n",
    "if st.button('Forecast'):\n",
    "    if forecast_date > forecast['ds'].iloc[-1].date():\n",
    "        st.error(\"The entered date is beyond the forecast range. Please enter a date within the next 30 days.\")\n",
    "    else:\n",
    "        forecasted_value = forecast.loc[forecast['ds'] == str(forecast_date), 'yhat'].values[0]\n",
    "        st.write(f\"The forecasted price for {forecast_date} is: ₹{forecasted_value:.2f}\")\n",
    "\n",
    "# Plot the forecast\n",
    "st.write(f'Forecast plot for the next 30 days')\n",
    "fig1 = plot_plotly(m, forecast)\n",
    "st.plotly_chart(fig1)\n"
   ]
  },
  {
   "cell_type": "code",
   "execution_count": null,
   "id": "245ccbe4",
   "metadata": {},
   "outputs": [],
   "source": []
  },
  {
   "cell_type": "code",
   "execution_count": null,
   "id": "92e38aa0",
   "metadata": {},
   "outputs": [],
   "source": []
  }
 ],
 "metadata": {
  "kernelspec": {
   "display_name": "Python 3 (ipykernel)",
   "language": "python",
   "name": "python3"
  },
  "language_info": {
   "codemirror_mode": {
    "name": "ipython",
    "version": 3
   },
   "file_extension": ".py",
   "mimetype": "text/x-python",
   "name": "python",
   "nbconvert_exporter": "python",
   "pygments_lexer": "ipython3",
   "version": "3.9.12"
  }
 },
 "nbformat": 4,
 "nbformat_minor": 5
}
